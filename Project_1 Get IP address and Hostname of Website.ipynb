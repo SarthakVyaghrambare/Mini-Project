{
 "cells": [
  {
   "cell_type": "code",
   "execution_count": 1,
   "id": "7f73d08b",
   "metadata": {},
   "outputs": [
    {
     "name": "stdout",
     "output_type": "stream",
     "text": [
      "Please enter website URL :google.com\n",
      "Hostname: google.com\n",
      "IP: 142.250.182.238\n"
     ]
    }
   ],
   "source": [
    "import socket\n",
    "\n",
    "def show_host_ip():\n",
    "    hostname = input(\"Please enter website URL :\")\n",
    "    try:\n",
    "        print(f'Hostname: {hostname}')\n",
    "        print(f'IP: {socket.gethostbyname(hostname)}')\n",
    "    except socket.gaierror as error:\n",
    "        print(f'Invalid Hostname , error : {error}')\n",
    "show_host_ip()"
   ]
  },
  {
   "cell_type": "code",
   "execution_count": null,
   "id": "759f90d3",
   "metadata": {},
   "outputs": [],
   "source": []
  }
 ],
 "metadata": {
  "kernelspec": {
   "display_name": "Python 3 (ipykernel)",
   "language": "python",
   "name": "python3"
  },
  "language_info": {
   "codemirror_mode": {
    "name": "ipython",
    "version": 3
   },
   "file_extension": ".py",
   "mimetype": "text/x-python",
   "name": "python",
   "nbconvert_exporter": "python",
   "pygments_lexer": "ipython3",
   "version": "3.9.7"
  }
 },
 "nbformat": 4,
 "nbformat_minor": 5
}
